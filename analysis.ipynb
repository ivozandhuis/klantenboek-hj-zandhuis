{
 "cells": [
  {
   "cell_type": "markdown",
   "metadata": {},
   "source": [
    "# Werkzaamheden en klanten van een dorpssmid in 1907"
   ]
  },
  {
   "cell_type": "markdown",
   "metadata": {},
   "source": [
    "## Source\n",
    "In my family a customer registration has survived of blacksmith Harm Jan Zandhuis (1884-1938) in [Wijhe](http://www.wikidata.org/entity/Q3164650), a village in the province of Overijssel in the Netherlands. The fact that the registration starts halfway May and Zandhuis' age (22) at the time of creation (1907), suggest that it is the year he started to work on his own account. He and his descendends kept this customer registration as a souvenir, because it probably was the oldest one in a series where newer ones were thrown away.\n",
    "\n",
    "The registration contains an index were the names of customers are alphabetically entered, with a reference to the page were the work he did for this customer was registered. On the page the date, work/product and price is notated.\n",
    "\n",
    "TODO: Add picture\n",
    "\n",
    "## Data\n",
    "This dataset contains two tables, one with an overview of the customers (```klanten.csv```) and one with the work and product that HJ Zandhuis sold (```werkzaamheden.csv```). Based on the available data (sometimes only a familyname) I try to find more information on the customer in the population registration of the municipality of Wijhe. This is added to the first table. The second table contains the work the blacksmith has done, the date and the price in Dutch guilders (note that in 1907 prices could have half cents, so three decimals are needed). This table refers to the customer in the first table through the pagenumber ('fol').\n",
    "\n",
    "A separate table (```termen.csv```) is constructed with the terms that were used to describe the work. It is extended with a 'broader term' to be able to combine work into categories.\n"
   ]
  },
  {
   "cell_type": "markdown",
   "metadata": {},
   "source": [
    "## Analysis\n",
    "I use python/pandas in a Jupyter Notebook to get some insight on the work of a blacksmith in a Dutch farm village, early twentieth century.\n",
    "\n",
    "First read the data into a DataFrame."
   ]
  },
  {
   "cell_type": "code",
   "execution_count": 1,
   "metadata": {},
   "outputs": [],
   "source": [
    "import pandas as pd\n",
    "\n",
    "df = pd.read_csv(\"data/werkzaamheden.csv\")\n"
   ]
  },
  {
   "cell_type": "markdown",
   "metadata": {},
   "source": [
    "## Cleaning"
   ]
  },
  {
   "cell_type": "markdown",
   "metadata": {},
   "source": [
    "Add a column containing the month of the entry in the table and filter out incomplete months."
   ]
  },
  {
   "cell_type": "code",
   "execution_count": 2,
   "metadata": {},
   "outputs": [],
   "source": [
    "df['maand'] = round((df['datum'] - 19070000) / 100)\n",
    "df = df[df['maand'] > 5]\n",
    "df = df[df['maand'] < 13]\n",
    "\n",
    "df = df.astype({'maand': 'int'})\n",
    "\n"
   ]
  },
  {
   "cell_type": "markdown",
   "metadata": {},
   "source": [
    "## Calculating turnover per month\n",
    "What is the turnover per month? Is there a big difference throughout the year?"
   ]
  },
  {
   "cell_type": "code",
   "execution_count": 3,
   "metadata": {},
   "outputs": [
    {
     "data": {
      "text/plain": [
       "<AxesSubplot: xlabel='maand'>"
      ]
     },
     "execution_count": 3,
     "metadata": {},
     "output_type": "execute_result"
    },
    {
     "data": {
      "image/png": "[encoded data removed]",
      "text/plain": [
       "<Figure size 640x480 with 1 Axes>"
      ]
     },
     "metadata": {},
     "output_type": "display_data"
    }
   ],
   "source": [
    "turnover_per_month = df.groupby('maand')['prijs'].sum()\n",
    "turnover_per_month.plot(kind = 'bar')\n"
   ]
  },
  {
   "cell_type": "markdown",
   "metadata": {},
   "source": [
    "## Calculating the mean price of a product for every month\n",
    "Is the work a blacksmith does per activity changing throughout the year? "
   ]
  },
  {
   "cell_type": "code",
   "execution_count": 4,
   "metadata": {},
   "outputs": [
    {
     "data": {
      "text/plain": [
       "<AxesSubplot: xlabel='maand'>"
      ]
     },
     "execution_count": 4,
     "metadata": {},
     "output_type": "execute_result"
    },
    {
     "data": {
      "image/png": "[encoded data removed]",
      "text/plain": [
       "<Figure size 640x480 with 1 Axes>"
      ]
     },
     "metadata": {},
     "output_type": "display_data"
    }
   ],
   "source": [
    "# TODO: remove empty prices first\n",
    "mean_price_per_month = df.groupby('maand')['prijs'].mean()\n",
    "mean_price_per_month.plot(kind = 'bar')"
   ]
  },
  {
   "cell_type": "code",
   "execution_count": 5,
   "metadata": {},
   "outputs": [],
   "source": [
    "def get_termen(cat_BT):\n",
    "    df_termen = pd.read_csv(\"data/termen.csv\")\n",
    "    cat_termen = []\n",
    "    for BT in cat_BT:\n",
    "        for item in df_termen[df_termen['BT'] == BT]['term'].tolist():\n",
    "            cat_termen.append(item)\n",
    "\n",
    "    return cat_termen\n",
    "\n",
    "voertuigen_termen = get_termen(['voertuigen', 'voertuigonderdelen', 'fietsonderdelen'])\n",
    "fiets_termen    = get_termen(['fietsonderdelen']) + ['fiets']\n",
    "\n",
    "bouw_termen     = get_termen(['bouwonderdelen', 'kachelonderdelen'])\n",
    "kachel_termen   = get_termen(['kachelonderdelen']) + ['kachel']\n",
    "\n",
    "paard_termen    = get_termen(['paard', 'hoefijzers', 'hoefijzeronderdelen'])\n",
    "werktuigen_termen = get_termen(['landbouwwerktuigen', 'ploegonderdelen', 'gereedschappen', 'machineonderdelen', 'huishoudelijke gereedschappen'])\n",
    "ploeg_termen    = get_termen(['ploegonderdelen']) + ['ploeg']\n",
    "\n",
    "verpakking_termen = get_termen(['verpakkingsmiddelen'])"
   ]
  },
  {
   "cell_type": "code",
   "execution_count": 20,
   "metadata": {},
   "outputs": [
    {
     "data": {
      "text/plain": [
       "categorie\n",
       "bouw          144.315\n",
       "paard         137.155\n",
       "voertuigen     83.755\n",
       "overige        70.235\n",
       "werktuigen     43.300\n",
       "Name: prijs, dtype: float64"
      ]
     },
     "execution_count": 20,
     "metadata": {},
     "output_type": "execute_result"
    }
   ],
   "source": [
    "df['object']    = df['object'].fillna('')\n",
    "df['materiaal'] = df['materiaal'].fillna('')\n",
    "df['termen']    = df['object'] + \" | \" + df['materiaal']\n",
    "\n",
    "df.loc[df['termen'].str.contains('|'.join(voertuigen_termen),regex=True), 'categorie'] = 'voertuigen'\n",
    "df.loc[df['termen'].str.contains('|'.join(werktuigen_termen),regex=True), 'categorie'] = 'werktuigen'\n",
    "df.loc[df['termen'].str.contains('|'.join(paard_termen),regex=True), 'categorie'] = 'paard'\n",
    "df.loc[df['termen'].str.contains('|'.join(bouw_termen),regex=True), 'categorie'] = 'bouw'\n",
    "df['categorie'] = df['categorie'].fillna('overige')\n",
    "\n",
    "serie_categorie = df.groupby('categorie')['prijs'].sum().sort_values(ascending=False)\n",
    "\n",
    "serie_categorie"
   ]
  },
  {
   "cell_type": "code",
   "execution_count": 19,
   "metadata": {},
   "outputs": [
    {
     "data": {
      "text/plain": [
       "Text(0.5, 0, 'categorie')"
      ]
     },
     "execution_count": 19,
     "metadata": {},
     "output_type": "execute_result"
    },
    {
     "data": {
      "image/png": "[encoded data removed]",
      "text/plain": [
       "<Figure size 640x480 with 1 Axes>"
      ]
     },
     "metadata": {},
     "output_type": "display_data"
    }
   ],
   "source": [
    "ax = serie_categorie.plot(title = \"Omzet per categorie\", kind = 'bar')\n",
    "ax.set_ylabel('omzet in guldens')\n",
    "ax.set_xlabel('categorie')"
   ]
  },
  {
   "cell_type": "code",
   "execution_count": 7,
   "metadata": {},
   "outputs": [
    {
     "data": {
      "text/plain": [
       "478.76"
      ]
     },
     "execution_count": 7,
     "metadata": {},
     "output_type": "execute_result"
    }
   ],
   "source": [
    "df['prijs'].sum()"
   ]
  },
  {
   "cell_type": "code",
   "execution_count": 8,
   "metadata": {},
   "outputs": [
    {
     "data": {
      "text/plain": [
       "categorie\n",
       "bouw          144.315\n",
       "paard         137.155\n",
       "voertuigen     83.755\n",
       "overige        70.235\n",
       "werktuigen     43.300\n",
       "Name: prijs, dtype: float64"
      ]
     },
     "execution_count": 8,
     "metadata": {},
     "output_type": "execute_result"
    }
   ],
   "source": [
    "df.groupby('categorie')['prijs'].sum().sort_values(ascending=False)"
   ]
  },
  {
   "cell_type": "code",
   "execution_count": 9,
   "metadata": {},
   "outputs": [
    {
     "data": {
      "text/plain": [
       "144.315"
      ]
     },
     "execution_count": 9,
     "metadata": {},
     "output_type": "execute_result"
    }
   ],
   "source": [
    "df_bouw = df[df['termen'].str.contains('|'.join(bouw_termen),regex=True)]\n",
    "df_bouw['prijs'].sum()"
   ]
  },
  {
   "cell_type": "code",
   "execution_count": 10,
   "metadata": {},
   "outputs": [
    {
     "data": {
      "text/plain": [
       "<AxesSubplot: xlabel='maand'>"
      ]
     },
     "execution_count": 10,
     "metadata": {},
     "output_type": "execute_result"
    },
    {
     "data": {
      "image/png": "[encoded data removed]",
      "text/plain": [
       "<Figure size 640x480 with 1 Axes>"
      ]
     },
     "metadata": {},
     "output_type": "display_data"
    }
   ],
   "source": [
    "df_bouw.groupby('maand')['prijs'].sum().plot(kind = 'bar')"
   ]
  },
  {
   "cell_type": "code",
   "execution_count": 11,
   "metadata": {},
   "outputs": [
    {
     "data": {
      "text/plain": [
       "58.070000000000014"
      ]
     },
     "execution_count": 11,
     "metadata": {},
     "output_type": "execute_result"
    }
   ],
   "source": [
    "df_kachel = df[df['termen'].str.contains('|'.join(kachel_termen),regex=True)]\n",
    "df_kachel['prijs'].sum()"
   ]
  },
  {
   "cell_type": "code",
   "execution_count": 12,
   "metadata": {},
   "outputs": [
    {
     "data": {
      "text/plain": [
       "<AxesSubplot: xlabel='maand'>"
      ]
     },
     "execution_count": 12,
     "metadata": {},
     "output_type": "execute_result"
    },
    {
     "data": {
      "image/png": "[encoded data removed]",
      "text/plain": [
       "<Figure size 640x480 with 1 Axes>"
      ]
     },
     "metadata": {},
     "output_type": "display_data"
    }
   ],
   "source": [
    "df_kachel.groupby('maand')['prijs'].sum().plot(kind = 'bar')"
   ]
  },
  {
   "cell_type": "code",
   "execution_count": 13,
   "metadata": {},
   "outputs": [
    {
     "data": {
      "text/plain": [
       "38.65"
      ]
     },
     "execution_count": 13,
     "metadata": {},
     "output_type": "execute_result"
    }
   ],
   "source": [
    "df_fiets = df[df['termen'].str.contains('|'.join(fiets_termen),regex=True)]\n",
    "df_fiets['prijs'].sum()"
   ]
  },
  {
   "cell_type": "code",
   "execution_count": 14,
   "metadata": {},
   "outputs": [
    {
     "data": {
      "text/plain": [
       "<AxesSubplot: xlabel='maand'>"
      ]
     },
     "execution_count": 14,
     "metadata": {},
     "output_type": "execute_result"
    },
    {
     "data": {
      "image/png": "[encoded data removed]",
      "text/plain": [
       "<Figure size 640x480 with 1 Axes>"
      ]
     },
     "metadata": {},
     "output_type": "display_data"
    }
   ],
   "source": [
    "df_fiets.groupby('maand')['prijs'].sum().plot(kind = 'bar')"
   ]
  },
  {
   "cell_type": "code",
   "execution_count": 15,
   "metadata": {},
   "outputs": [
    {
     "name": "stdout",
     "output_type": "stream",
     "text": [
      "fol\n",
      "122    27.225\n",
      "5      25.010\n",
      "60     20.895\n",
      "3      20.870\n",
      "15     15.850\n",
      "7      15.650\n",
      "82     13.480\n",
      "23     12.630\n",
      "49     12.400\n",
      "1      11.800\n",
      "80     10.205\n",
      "93      9.170\n",
      "14      8.980\n",
      "48      8.125\n",
      "44      8.080\n",
      "78      7.950\n",
      "12      7.575\n",
      "53      7.050\n",
      "43      7.000\n",
      "73      6.920\n",
      "105     6.760\n",
      "74      6.760\n",
      "33      6.300\n",
      "11      6.235\n",
      "131     6.155\n",
      "26      5.900\n",
      "118     5.600\n",
      "108     5.025\n",
      "25      4.880\n",
      "107     4.745\n",
      "32      4.700\n",
      "76      4.650\n",
      "30      4.575\n",
      "59      4.450\n",
      "138     4.125\n",
      "10      4.045\n",
      "71      3.730\n",
      "77b     3.705\n",
      "75      3.560\n",
      "116     3.550\n",
      "38      3.500\n",
      "114     3.300\n",
      "99      3.195\n",
      "19      3.150\n",
      "50      3.150\n",
      "137     2.975\n",
      "40      2.910\n",
      "128     2.825\n",
      "29      2.800\n",
      "63      2.750\n",
      "94      2.750\n",
      "42      2.750\n",
      "18      2.625\n",
      "61      2.600\n",
      "141     2.535\n",
      "115     2.450\n",
      "96      2.350\n",
      "143     2.250\n",
      "117     2.225\n",
      "6       2.200\n",
      "67      2.100\n",
      "106     2.100\n",
      "86      2.100\n",
      "4       2.090\n",
      "34      2.050\n",
      "129     1.975\n",
      "134     1.975\n",
      "52      1.950\n",
      "69      1.900\n",
      "55      1.800\n",
      "103     1.725\n",
      "70      1.720\n",
      "51      1.700\n",
      "124     1.525\n",
      "45      1.410\n",
      "142     1.400\n",
      "123     1.400\n",
      "109     1.350\n",
      "121     1.300\n",
      "148     1.250\n",
      "62      1.250\n",
      "56      1.200\n",
      "58      1.150\n",
      "41      1.150\n",
      "8       1.075\n",
      "2       1.000\n",
      "81      1.000\n",
      "90      0.950\n",
      "72      0.900\n",
      "150     0.835\n",
      "101     0.770\n",
      "20      0.680\n",
      "85      0.650\n",
      "110     0.650\n",
      "89      0.620\n",
      "100     0.600\n",
      "136     0.600\n",
      "28      0.600\n",
      "57      0.600\n",
      "156     0.550\n",
      "113     0.550\n",
      "119     0.550\n",
      "151     0.500\n",
      "97      0.500\n",
      "152     0.450\n",
      "153     0.450\n",
      "154     0.450\n",
      "17      0.450\n",
      "31      0.450\n",
      "37      0.450\n",
      "92      0.420\n",
      "125     0.400\n",
      "126     0.400\n",
      "39      0.400\n",
      "88      0.400\n",
      "87      0.400\n",
      "13      0.400\n",
      "145     0.350\n",
      "68      0.350\n",
      "130     0.350\n",
      "98      0.350\n",
      "66      0.350\n",
      "146     0.300\n",
      "79      0.300\n",
      "91      0.300\n",
      "133     0.300\n",
      "135     0.300\n",
      "140     0.300\n",
      "64      0.300\n",
      "95      0.250\n",
      "127     0.250\n",
      "65      0.250\n",
      "102     0.250\n",
      "83      0.250\n",
      "84      0.250\n",
      "104     0.225\n",
      "111     0.200\n",
      "144     0.200\n",
      "22      0.200\n",
      "139     0.200\n",
      "120     0.200\n",
      "9       0.200\n",
      "147     0.200\n",
      "155     0.150\n",
      "47      0.150\n",
      "35      0.150\n",
      "54      0.100\n",
      "16      0.100\n",
      "46      0.100\n",
      "132     0.100\n",
      "27      0.060\n",
      "112     0.000\n",
      "149     0.000\n",
      "36      0.000\n",
      "21      0.000\n"
     ]
    }
   ],
   "source": [
    "print(df.groupby('fol')['prijs'].sum().sort_values(ascending = False).to_string())"
   ]
  },
  {
   "cell_type": "code",
   "execution_count": 16,
   "metadata": {},
   "outputs": [
    {
     "name": "stdout",
     "output_type": "stream",
     "text": [
      "fol\n",
      "5      40\n",
      "105    36\n",
      "1      33\n",
      "3      27\n",
      "23     26\n",
      "60     25\n",
      "122    22\n",
      "7      21\n",
      "80     21\n",
      "44     21\n",
      "15     20\n",
      "12     20\n",
      "53     19\n",
      "11     16\n",
      "108    16\n",
      "21     16\n",
      "14     16\n",
      "25     15\n",
      "75     15\n",
      "73     14\n",
      "33     14\n",
      "78     14\n",
      "74     13\n",
      "70     13\n",
      "82     12\n",
      "26     11\n",
      "93     11\n",
      "42     10\n",
      "10     10\n",
      "19     10\n",
      "138     9\n",
      "30      9\n",
      "61      9\n",
      "99      9\n",
      "96      8\n",
      "94      8\n",
      "55      8\n",
      "43      8\n",
      "115     7\n",
      "76      7\n",
      "107     7\n",
      "118     7\n",
      "32      7\n",
      "63      7\n",
      "117     7\n",
      "40      7\n",
      "116     6\n",
      "59      6\n",
      "48      6\n",
      "18      6\n",
      "67      6\n",
      "69      6\n",
      "2       6\n",
      "29      6\n",
      "6       5\n",
      "106     5\n",
      "131     5\n",
      "52      5\n",
      "20      5\n",
      "38      5\n",
      "49      5\n",
      "34      5\n",
      "58      4\n",
      "71      4\n",
      "51      4\n",
      "50      4\n",
      "41      4\n",
      "90      4\n",
      "62      3\n",
      "37      3\n",
      "128     3\n",
      "4       3\n",
      "45      3\n",
      "114     3\n",
      "148     3\n",
      "77b     3\n",
      "134     3\n",
      "89      3\n",
      "8       3\n",
      "103     3\n",
      "121     3\n",
      "123     3\n",
      "124     3\n",
      "72      2\n",
      "109     2\n",
      "129     2\n",
      "101     2\n",
      "87      2\n",
      "141     2\n",
      "92      2\n",
      "98      2\n",
      "137     2\n",
      "113     2\n",
      "119     2\n",
      "17      2\n",
      "35      2\n",
      "140     1\n",
      "147     1\n",
      "104     1\n",
      "133     1\n",
      "16      1\n",
      "79      1\n",
      "156     1\n",
      "102     1\n",
      "81      1\n",
      "155     1\n",
      "83      1\n",
      "84      1\n",
      "85      1\n",
      "86      1\n",
      "146     1\n",
      "154     1\n",
      "88      1\n",
      "153     1\n",
      "9       1\n",
      "152     1\n",
      "91      1\n",
      "151     1\n",
      "100     1\n",
      "132     1\n",
      "95      1\n",
      "150     1\n",
      "97      1\n",
      "127     1\n",
      "126     1\n",
      "125     1\n",
      "130     1\n",
      "57      1\n",
      "142     1\n",
      "46      1\n",
      "47      1\n",
      "39      1\n",
      "36      1\n",
      "143     1\n",
      "144     1\n",
      "31      1\n",
      "149     1\n",
      "54      1\n",
      "139     1\n",
      "56      1\n",
      "145     1\n",
      "22      1\n",
      "120     1\n",
      "112     1\n",
      "111     1\n",
      "28      1\n",
      "27      1\n",
      "64      1\n",
      "65      1\n",
      "66      1\n",
      "136     1\n",
      "68      1\n",
      "135     1\n",
      "110     1\n",
      "13      1\n"
     ]
    }
   ],
   "source": [
    "print(df.groupby('fol').size().sort_values(ascending = False).to_string())"
   ]
  }
 ],
 "metadata": {
  "kernelspec": {
   "display_name": "Python 3",
   "language": "python",
   "name": "python3"
  },
  "language_info": {
   "codemirror_mode": {
    "name": "ipython",
    "version": 3
   },
   "file_extension": ".py",
   "mimetype": "text/x-python",
   "name": "python",
   "nbconvert_exporter": "python",
   "pygments_lexer": "ipython3",
   "version": "3.10.12"
  },
  "orig_nbformat": 4
 },
 "nbformat": 4,
 "nbformat_minor": 2
}
