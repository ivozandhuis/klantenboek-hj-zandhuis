{
 "cells": [
  {
   "cell_type": "markdown",
   "metadata": {},
   "source": [
    "# Werkzaamheden en klanten van een dorpssmid in 1907"
   ]
  },
  {
   "cell_type": "markdown",
   "metadata": {},
   "source": [
    "# Vocabulary\n",
    "Created a third table with a structured vocabulary of the things he handled and the handling itself (eg. 'paard' and 'beslaan', or 'wagen' and 'repareren'). This in order to standardize the werkzaamheden and use that for analysis."
   ]
  },
  {
   "cell_type": "code",
   "execution_count": 1,
   "metadata": {},
   "outputs": [],
   "source": [
    "import csv\n",
    "import pandas as pd\n",
    "\n",
    "df = pd.read_csv(\"data/werkzaamheden.csv\")\n",
    "\n",
    "types = ['object', 'actie', 'materiaal']\n",
    "\n",
    "table = []\n",
    "for type in types:\n",
    "    lyst = []\n",
    "    for item in df[type].unique():\n",
    "        x = str(item)\n",
    "        lyst = lyst + x.split(' | ')\n",
    "\n",
    "    lyst.remove('nan')\n",
    "    unique_lyst = list(set(lyst))\n",
    "\n",
    "    for item in unique_lyst:\n",
    "        row = [[type, item]]\n",
    "        table = table + row\n",
    "\n",
    "with open('data/voc.csv', 'w', newline='') as f:\n",
    "    writer = csv.writer(f)\n",
    "    writer.writerows(table)\n"
   ]
  }
 ],
 "metadata": {
  "kernelspec": {
   "display_name": "Python 3",
   "language": "python",
   "name": "python3"
  },
  "language_info": {
   "codemirror_mode": {
    "name": "ipython",
    "version": 3
   },
   "file_extension": ".py",
   "mimetype": "text/x-python",
   "name": "python",
   "nbconvert_exporter": "python",
   "pygments_lexer": "ipython3",
   "version": "3.10.12"
  },
  "orig_nbformat": 4
 },
 "nbformat": 4,
 "nbformat_minor": 2
}
